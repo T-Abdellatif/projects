{
 "cells": [
  {
   "cell_type": "markdown",
   "metadata": {},
   "source": [
    "<small><i>This notebook was create by Franck Iutzeler, Jerome Malick and Yann Vernaz (2016).</i></small>\n",
    "<!-- Credit (images) Jeffrey Keating Thompson. -->"
   ]
  },
  {
   "cell_type": "markdown",
   "metadata": {},
   "source": [
    "<center><img src=\"UGA.png\" width=\"30%\" height=\"30%\"></center>\n",
    "<center><h3>Master of Science in Industrial and Applied Mathematics (MSIAM)</h3></center>\n",
    "<hr>\n",
    "<center><h1>Convex and distributed optimization</h1></center>\n",
    "<center><h2>Part III - Recommender Systems (3h + 3h home work)</h2></center>"
   ]
  },
  {
   "cell_type": "markdown",
   "metadata": {},
   "source": [
    "# Outline\n",
    "\n",
    "In this Lab, we will investigate some gradient-based algorithms on the very well known matrix factorization problem which is the most prominent approach for build a _Recommender Systems_.\n",
    "\n",
    "Our goal is to implement Large-Scale Matrix Factorization with Distributed Stochastic Gradient Descent in Spark."
   ]
  },
  {
   "cell_type": "markdown",
   "metadata": {},
   "source": [
    "# Problem Formulation\n",
    "\n",
    "The problem of matrix factorization for collaborative filtering captured much attention, especially after the [Netflix prize](https://datajobs.com/data-science-repo/Recommender-Systems-%5BNetflix%5D.pdf). The premise behind this approach is to approximate a large rating matrix $R$ with the multiplication of two low-dimensional factor matrices $P$ and $Q$, i.e. $R \\approx \\hat{R} = P^TQ$, that model respectively users and items in some latent space. For instance, matrix $R$ has dimension $m \\times  n$ where $m$ and $n$ are restrictively the number of users and items, both large; while $P$ has size $m \\times  k$ and contains user information in a latent space of size $k<<m,n$, $Q$ has size $n\\times k$ and contains item information in the same latent space of size $k << m,n$. Typical values for $m, n$ are $10^6$ while $k$ is in the tens.\n",
    "\n",
    "For a pair of user and item $(u_i,i_j)$ for which a rating $r_{ij}$ exists, a common approach approach is based on the minimization of the $\\ell_2$-regularized quadratic error:\n",
    "$$  \\ell_{u_i,i_j}(P,Q)= \\left(r_{ij} - p_{i}^{\\top}q_{j}\\right)^2 + \\lambda(|| p_{i} ||^{2} + || q_{j} ||^2 )  $$\n",
    "where $p_i$ is the column vector composed of the $i$-th line of $P$ and  $\\lambda\\geq 0$ is a regularization parameter. The whole matrix factorization problem thus writes\n",
    "$$ \\min_{P,Q} \\sum_{i,j : r_{ij} \\text{exists}}  \\ell_{u_i,i_j}(P,Q). $$\n",
    "Note that the error $ \\ell_{u_i,i_j}(P,Q)$ depends only on $P$ and $Q$ through $p_{i}$ and $q_{j}$; however, item $i_j$ may also be rated by user $u_{i'}$ so that the optimal factor $q_{j}$ depends on both $p_{i}$ and $p_{i'}$."
   ]
  },
  {
   "cell_type": "code",
   "execution_count": 1,
   "metadata": {
    "collapsed": false
   },
   "outputs": [],
   "source": [
    "# set up spark environment (Using Spark Local Mode)\n",
    "from pyspark import SparkContext, SparkConf\n",
    "\n",
    "conf = SparkConf()\n",
    "conf.setMaster(\"local[*]\")\n",
    "conf.setAppName(\"MSIAM part III - Matrix Factorization\")\n",
    "\n",
    "sc = SparkContext(conf = conf)"
   ]
  },
  {
   "cell_type": "markdown",
   "metadata": {},
   "source": [
    "We remind you that you can access this interface by simply opening http://localhost:4040 in a web browser.\n",
    "\n",
    "We will capitalize on the first lab and take the MovieLens dataset, and thus the RDD routines we already have."
   ]
  },
  {
   "cell_type": "code",
   "execution_count": 2,
   "metadata": {
    "collapsed": false
   },
   "outputs": [
    {
     "name": "stdout",
     "output_type": "stream",
     "text": [
      "We have 1000209 ratings from 6040 users on 3706 movies.\n",
      "\n",
      "We have 6040 users, 3952 movies and the rating matrix has 4.190221 percent of non-zero value.\n",
      "\n"
     ]
    }
   ],
   "source": [
    "def parseRating(line):\n",
    "    fields = line.split('::')\n",
    "    return int(fields[0]), int(fields[1]), float(fields[2])\n",
    "\n",
    "def parseMovie(line):\n",
    "    fields = line.split(\"::\")\n",
    "    return int(fields[0]), fields[1], fields[2]\n",
    "\n",
    "# path to MovieLens dataset\n",
    "movieLensHomeDir=\"data/movielens/medium/\"\n",
    "\n",
    "# ratings is an RDD of (userID, movieID, rating)\n",
    "ratingsRDD = sc.textFile(movieLensHomeDir + \"ratings.dat\").map(parseRating).setName(\"ratings\").cache()\n",
    "\n",
    "numRatings = ratingsRDD.count()\n",
    "numUsers = ratingsRDD.map(lambda r: r[0]).distinct().count()\n",
    "numMovies = ratingsRDD.map(lambda r: r[1]).distinct().count()\n",
    "print(\"We have %d ratings from %d users on %d movies.\\n\" % (numRatings, numUsers, numMovies))\n",
    "\n",
    "M = ratingsRDD.map(lambda r: r[0]).max()\n",
    "N = ratingsRDD.map(lambda r: r[1]).max()\n",
    "matrixSparsity = float(numRatings)/float(M*N)\n",
    "print(\"We have %d users, %d movies and the rating matrix has %f percent of non-zero value.\\n\" % (M, N, 100*matrixSparsity))"
   ]
  },
  {
   "cell_type": "markdown",
   "metadata": {},
   "source": [
    "#  Gradient Descent Algorithms\n",
    "\n",
    "The goal here is to \n",
    "1. Compute gradients of the loss functions.\n",
    "2. Implement gradient algorithms.\n",
    "3. Observe the prediction accuracy of the developed methods.\n",
    "\n",
    "__Question 1__\n",
    "\n",
    "> Split (ramdomly) the dataset into training versus testing sample. We learn over 70% (for example) of the users, we test over the rest.\n",
    "\n",
    "> Define a routine that returns the predicted rating from factor matrices. Form a RDD with the following elements `(i,j,true rating,predicted rating)`. \n",
    "\n",
    "> Define a routine that returns the Mean Square Error (MSE).\n"
   ]
  },
  {
   "cell_type": "code",
   "execution_count": 4,
   "metadata": {
    "collapsed": false
   },
   "outputs": [
    {
     "name": "stdout",
     "output_type": "stream",
     "text": [
      "The number of examples in the dataset :  1000209\n",
      "The number of examples in the training dataset :  699883\n",
      "The number of examples in the testing dataset :  300326\n",
      "We have 6040 users and 3657 movies in training sample.\n",
      "\n"
     ]
    }
   ],
   "source": [
    "import numpy as np\n",
    "\n",
    "trainingSample, testingSample = ratingsRDD.randomSplit([70, 30])\n",
    "print(\"The number of examples in the dataset : \",ratingsRDD.count())\n",
    "print(\"The number of examples in the training dataset : \",trainingSample.count())\n",
    "print(\"The number of examples in the testing dataset : \",testingSample.count())\n",
    "\n",
    "numUsers = trainingSample.map(lambda r: r[0]).distinct().count()\n",
    "usersList = trainingSample.map(lambda r: r[0]).distinct().collect()\n",
    "numMovies = trainingSample.map(lambda r: r[1]).distinct().count()\n",
    "moviesList = trainingSample.map(lambda r: r[1]).distinct().collect()\n",
    "print(\"We have %d users and %d movies in training sample.\\n\" % (numUsers, numMovies))"
   ]
  },
  {
   "cell_type": "code",
   "execution_count": 73,
   "metadata": {
    "collapsed": false
   },
   "outputs": [
    {
     "name": "stdout",
     "output_type": "stream",
     "text": [
      "\n",
      " 3 distinct random movies:\n",
      " [610, 1983, 3362]\n",
      "\n",
      " 19 distinct users:\n",
      " [651, 1128, 1285, 1680, 1733, 1820, 1941, 2181, 2909, 3032, 3626, 3841, 4009, 4041, 4064, 4227, 4238, 4303, 5627]\n"
     ]
    }
   ],
   "source": [
    "# Test\n",
    "import random\n",
    "\n",
    "def choixMovies(n):\n",
    "    movieTestList = []\n",
    "    pas = int(numMovies/n)\n",
    "    intervalle = 0\n",
    "    for i in range(0,n): \n",
    "        movieTestList.append(random.randint(intervalle,intervalle+pas))\n",
    "        intervalle += pas\n",
    "    return movieTestList\n",
    "     \n",
    "def getRealRating(u,i):\n",
    "    rating = trainingSample.filter(lambda x : x[0] == u).filter(lambda y : y[1] == i).map(lambda z : z[2]).collect()\n",
    "    if len(rating) == 0:\n",
    "        return -1\n",
    "    return rating[0]\n",
    "\n",
    "def correspondingUsers(movies):\n",
    "    _users = {}\n",
    "    for m in usersList:\n",
    "        _users_temp = {m:0} \n",
    "        _users.update(_users_temp)\n",
    "        \n",
    "    for movie in movies:\n",
    "        nb = 0\n",
    "        _correspondingUsers = trainingSample.filter(lambda line : line[1] == movie).map(lambda line : line[0]).collect()\n",
    "        for i in _correspondingUsers:\n",
    "            _users[i] = _users[i] + 1  \n",
    "    final_list = []\n",
    "    for i in _users:\n",
    "        if _users[i] == len(movies):\n",
    "            final_list.append(i)\n",
    "    return final_list\n",
    "                              \n",
    "moviesTest = choixMovies(3)\n",
    "print(\"\\n\",len(moviesTest),\"distinct random movies:\\n\",moviesTest)\n",
    "usersTest = correspondingUsers(moviesTest)\n",
    "print(\"\\n\",len(usersTest),\"distinct users:\\n\",usersTest)"
   ]
  },
  {
   "cell_type": "code",
   "execution_count": 74,
   "metadata": {
    "collapsed": false
   },
   "outputs": [
    {
     "name": "stdout",
     "output_type": "stream",
     "text": [
      "0 1 2 3 4 5 6 7 8 9 10 11 12 13 14 15 16 17 18 \n",
      " testing matrixRating 1 1 = 2.0 \n",
      "\n",
      "\n",
      " [[ 4.  2.  4.]\n",
      " [ 3. -1.  3.]\n",
      " [ 3.  2.  5.]\n",
      " [ 4.  5.  4.]\n",
      " [ 3.  3.  4.]\n",
      " [ 3.  5.  5.]\n",
      " [ 3.  3.  5.]\n",
      " [ 1.  3.  5.]\n",
      " [ 3.  4.  4.]\n",
      " [ 3.  5.  5.]\n",
      " [ 4.  3.  4.]\n",
      " [ 3.  3.  4.]\n",
      " [ 1.  4.  5.]\n",
      " [ 2.  4.  4.]\n",
      " [ 2.  2.  4.]\n",
      " [ 4.  1.  4.]\n",
      " [ 3.  3.  4.]\n",
      " [ 4.  1.  4.]\n",
      " [ 4.  2.  4.]]\n",
      "\n",
      " [[ 0.23788554 -0.59821441 -0.00691115]\n",
      " [-0.72081882  0.37020607  1.13802721]\n",
      " [ 1.28376753 -0.2032138  -0.01931199]\n",
      " [ 0.16409554  0.15517308  0.17776166]\n",
      " [ 0.47301634 -0.16008854  0.12836467]\n",
      " [ 0.12867501 -0.01140444  0.08502107]\n",
      " [ 0.36477571 -0.07061426 -0.03297658]\n",
      " [ 1.51280615  0.29162757 -0.02627755]\n",
      " [ 0.28607742  0.43003809 -0.5533222 ]\n",
      " [ 0.87686779 -0.19194513  0.79675142]\n",
      " [ 0.0088413  -0.06072406 -0.12023561]\n",
      " [ 0.17613234 -0.25068132  0.23736077]\n",
      " [-0.91357012 -0.81294482  0.91135921]\n",
      " [ 0.05394769  0.03238511  0.1033972 ]\n",
      " [ 0.02949401 -0.66482824 -0.59836994]\n",
      " [-0.79673206  0.64509971 -0.42137616]\n",
      " [ 0.48025456 -0.24683714  0.61658884]\n",
      " [-0.75458642  0.6648726   0.07774437]\n",
      " [ 0.88373555 -0.52577379  0.11077199]]\n"
     ]
    }
   ],
   "source": [
    "# Optimal test sample\n",
    "#moviesTest = [733, 1513, 3052]\n",
    "#usersTest = [149, 242, 424, 528, 710, 781, 1001, 1088, 1113, 1125, 1172, 1181, 1194, 1303, 1391, 1449, 1542, 1666, 1733, 1764, 1778, 1854, 2010, 2063, 2106, 2116, 2378, 2559, 2777, 2793, 2818, 2996, 3189, 3203, 3308, 3336, 3434, 3464, 3471, 3504, 3539, 3648, 3652, 3859, 4041, 4186, 4404, 4446, 4485, 4728, 4829, 4979, 5605, 5643, 5795, 5956, 5972]\n",
    "\n",
    "# Build factorization matrix\n",
    "from random import *\n",
    "\n",
    "def randomArray(size,a,b) :\n",
    "    x = np.zeros(size)\n",
    "    for i in range(0,size) :\n",
    "        x[i] = uniform(a,b)\n",
    "    return x\n",
    "\n",
    "def MSE(pu,qi,lamb,rij,rijHat):\n",
    "    e = pow(rij - rijHat,2) + lamb * (pow(np.linalg.norm(pu,2),2) + pow(np.linalg.norm(qi,2),2))\n",
    "    return e\n",
    "\n",
    "def getPredictiveRating(u,i,mat):\n",
    "    return mat[u,i]\n",
    "\n",
    "m = len(usersTest)\n",
    "n = len(moviesTest)\n",
    "k = 5\n",
    "lamb = 0.01\n",
    "factorMatrix = np.eye(m,n)\n",
    "matrixRating = np.eye(m,n)\n",
    "for u in range(0,m):\n",
    "    print(u,end=' ')\n",
    "    pu = randomArray(k,-1,1)\n",
    "    for i in range(0,n):\n",
    "        qi = randomArray(k,-1,1)\n",
    "        factorMatrix[u,i] = np.dot(pu,qi)\n",
    "        matrixRating[u,i] = getRealRating(usersTest[u],moviesTest[i])\n",
    "testing = matrixRating[1,1]\n",
    "matrixRating[1,1] = -1\n",
    "print(\"\\n testing matrixRating\",1,1, \"=\",testing,\"\\n\")\n",
    "print(\"\\n\",matrixRating)\n",
    "print(\"\\n\",factorMatrix)"
   ]
  },
  {
   "cell_type": "code",
   "execution_count": 7,
   "metadata": {
    "collapsed": false
   },
   "outputs": [
    {
     "name": "stdout",
     "output_type": "stream",
     "text": [
      "Convertion of factor matrix to RDD: OK\n",
      "Predictive Ratings RDD :\n",
      " [(149, 733, -0.35168353445225575, -1.0), (149, 1513, -0.13062075609712231, 4.0), (149, 3052, 0.12149808980686669, -1.0), (242, 733, -0.86668911265325532, 3.0), (242, 1513, -0.66268657590149471, 3.0), (242, 3052, -0.29894447915497058, 3.0), (424, 733, 0.034176361977205763, -1.0), (424, 1513, 0.37110895639771541, 3.0), (424, 3052, 0.22796575291902799, -1.0), (528, 733, 0.24643255548815685, 4.0), (528, 1513, -0.1305569358722235, 2.0), (528, 3052, -0.50806772614849716, 4.0), (710, 733, 0.77368510649258848, 4.0), (710, 1513, 0.7713932078665966, -1.0), (710, 3052, -0.55702380869345003, 4.0), (781, 733, 0.4864693425295008, 4.0), (781, 1513, -0.38406606177302466, 3.0), (781, 3052, 1.0430728353405962, -1.0), (1001, 733, -0.402698276015026, 4.0), (1001, 1513, -0.86611587558662007, 3.0), (1001, 3052, -0.12393081582999782, -1.0), (1088, 733, -0.29561807798738865, 4.0), (1088, 1513, -0.43305495250480497, -1.0), (1088, 3052, 0.30280273409628622, 4.0), (1113, 733, -0.84139677351261832, -1.0), (1113, 1513, -0.446103228825668, 3.0), (1113, 3052, 0.025087755589387639, 4.0), (1125, 733, 0.60752130800180959, 5.0), (1125, 1513, -0.11814386605422456, 4.0), (1125, 3052, -0.32804985374263484, -1.0), (1172, 733, -1.1960798594596991, 5.0), (1172, 1513, 0.0082973267049735178, 3.0), (1172, 3052, 0.35906249273738772, 5.0), (1181, 733, 0.050203721502290216, -1.0), (1181, 1513, -0.33216038718327101, 3.0), (1181, 3052, 0.50254745504006082, -1.0), (1194, 733, -0.23960193351641434, 5.0), (1194, 1513, -0.48605100570828014, 3.0), (1194, 3052, -0.16709564029796212, -1.0), (1303, 733, 0.0015363392064026704, 3.0), (1303, 1513, 0.078435945291084663, 2.0), (1303, 3052, 0.22872654079534244, 3.0), (1391, 733, -0.71819815284619559, -1.0), (1391, 1513, -0.14364719799863346, 3.0), (1391, 3052, -0.74735765234669027, -1.0), (1449, 733, -0.22813076210302274, 3.0), (1449, 1513, -0.53275474449122673, 3.0), (1449, 3052, 0.0030656602051963855, 3.0), (1542, 733, -0.54311882386579324, 5.0), (1542, 1513, -0.15900299350385655, 4.0), (1542, 3052, 0.57877350464904809, 4.0), (1666, 733, 0.60999355983976, 3.0), (1666, 1513, -0.51998408942157837, -1.0), (1666, 3052, 0.65029600152624356, 4.0), (1733, 733, 0.37513390725876922, 3.0), (1733, 1513, 0.048366998309081088, -1.0), (1733, 3052, -0.76485333285640456, -1.0), (1764, 733, 0.061073547960364842, -1.0), (1764, 1513, 0.59167566985418751, 4.0), (1764, 3052, -0.70553428255303297, 5.0), (1778, 733, 0.39988165526855396, -1.0), (1778, 1513, 0.3851176508779468, -1.0), (1778, 3052, 0.23421145776891575, -1.0), (1854, 733, -0.86535990644639882, 3.0), (1854, 1513, 0.40378277306047866, -1.0), (1854, 3052, -0.13338853470963669, 2.0), (2010, 733, 0.24780421886652554, 4.0), (2010, 1513, 0.049512721777772009, 1.0), (2010, 3052, 0.11259843081460562, 4.0), (2063, 733, -0.59631443718455968, 4.0), (2063, 1513, -1.0222547029732243, -1.0), (2063, 3052, 0.038060995442368906, -1.0), (2106, 733, -0.09111481651388012, -1.0), (2106, 1513, -0.016701641275102552, 1.0), (2106, 3052, 0.1277090352784982, 4.0), (2116, 733, 0.51573727918363277, 4.0), (2116, 1513, 0.10804534151550177, 5.0), (2116, 3052, -0.35632687939379193, -1.0), (2378, 733, -0.052932067323246179, 5.0), (2378, 1513, -0.43240839471525927, 3.0), (2378, 3052, -0.14977004416079212, 5.0), (2559, 733, 0.31118489603475497, 5.0), (2559, 1513, 0.11212392790793976, -1.0), (2559, 3052, -0.22050709624161799, 4.0), (2777, 733, -0.21298255634530755, -1.0), (2777, 1513, -0.10329006572323668, 2.0), (2777, 3052, 0.19221752635748879, 5.0), (2793, 733, -0.55159071887405586, 4.0), (2793, 1513, -0.43579502015011334, -1.0), (2793, 3052, 0.65889316681172105, 5.0), (2818, 733, 0.30888375424903736, 2.0), (2818, 1513, 0.10995319127404732, 3.0), (2818, 3052, 0.15302708246945851, 5.0), (2996, 733, -0.11300479957038258, -1.0), (2996, 1513, 0.063433074050817634, 3.0), (2996, 3052, 0.10820427728648532, 3.0), (3189, 733, 0.51611547810257863, 5.0), (3189, 1513, 0.33387759824653374, 2.0), (3189, 3052, 0.42805315227408702, -1.0), (3203, 733, 0.38332756072574203, -1.0), (3203, 1513, 0.49644358170087388, 3.0), (3203, 3052, 0.61524104494993503, -1.0), (3308, 733, -0.20409477925121539, 4.0), (3308, 1513, 1.1725915479024902, 2.0), (3308, 3052, -0.16986758134894037, 5.0), (3336, 733, -0.50306737983725125, 3.0), (3336, 1513, 0.028498490174613096, -1.0), (3336, 3052, 0.21563104981157488, 3.0), (3434, 733, -0.42306803838607782, 2.0), (3434, 1513, 0.94674901061796302, 2.0), (3434, 3052, 0.23444111278740409, -1.0), (3464, 733, 0.1944002291178864, 4.0), (3464, 1513, -0.12171319590402452, 4.0), (3464, 3052, -0.096464271830499826, 4.0), (3471, 733, -0.93544524535502205, 3.0), (3471, 1513, 0.017840443390788607, 2.0), (3471, 3052, -0.57546771004115838, 4.0), (3504, 733, -0.40445996407743967, -1.0), (3504, 1513, 0.46631738970083847, 3.0), (3504, 3052, -0.16364586734611081, 4.0), (3539, 733, 0.00027723856763810228, -1.0), (3539, 1513, 0.17275968988435153, 4.0), (3539, 3052, 0.18121894842708774, 5.0), (3648, 733, 0.29818660096870403, 3.0), (3648, 1513, -0.051045202625684925, -1.0), (3648, 3052, 0.63677989639051769, 5.0), (3652, 733, -9.8231876660387352e-05, -1.0), (3652, 1513, -0.37856073120958567, 3.0), (3652, 3052, 0.46933792518837886, -1.0), (3859, 733, -0.56445938739555879, 4.0), (3859, 1513, -0.35661256704986483, 3.0), (3859, 3052, -0.49271742065399976, 4.0), (4041, 733, 0.11622431299705832, 5.0), (4041, 1513, 0.26300802656956374, 3.0), (4041, 3052, 0.65268870376575383, 3.0), (4186, 733, -0.10353309616052894, 4.0), (4186, 1513, -0.32111621554196507, 2.0), (4186, 3052, 0.4149630447455126, 4.0), (4404, 733, -0.10077055049337091, 4.0), (4404, 1513, -0.015737513221235427, 3.0), (4404, 3052, 0.089742614054038883, 4.0), (4446, 733, 0.14524163907388385, 3.0), (4446, 1513, 0.0035730538291642577, 3.0), (4446, 3052, -0.35109609078690174, 5.0), (4485, 733, 0.1867534945384238, 1.0), (4485, 1513, 0.19790289469602468, -1.0), (4485, 3052, -0.133898480766348, -1.0), (4728, 733, 0.2013021152746956, 3.0), (4728, 1513, -0.69860994498368567, 3.0), (4728, 3052, -0.47012438723557065, 3.0), (4829, 733, -0.27703483944153273, -1.0), (4829, 1513, 1.199253599965481, 4.0), (4829, 3052, -0.17753635246149368, 4.0), (4979, 733, -0.13298559067450488, 4.0), (4979, 1513, -0.35956520652612067, -1.0), (4979, 3052, -0.16000861580628478, 5.0), (5605, 733, 0.41518617873963409, 4.0), (5605, 1513, -0.41996552124023645, 3.0), (5605, 3052, 0.54809092377336188, 3.0), (5643, 733, 0.51890395534040379, 3.0), (5643, 1513, -0.047529960331049594, 3.0), (5643, 3052, -0.011000622562420626, 2.0), (5795, 733, 0.44912486565988302, 4.0), (5795, 1513, -0.180129802427379, 1.0), (5795, 3052, 0.1846702541542263, 4.0), (5956, 733, 0.035559586206122457, -1.0), (5956, 1513, -0.45710665147755725, 4.0), (5956, 3052, 0.041320102808973802, 2.0), (5972, 733, 0.91424377264761159, -1.0), (5972, 1513, -0.33734424596185741, 4.0), (5972, 3052, 0.27381896958268709, 3.0)]\n"
     ]
    }
   ],
   "source": [
    "# Create predictive ratings RDD\n",
    "def mat2Rdd(m,n,estimatedMatrix):\n",
    "    mat = []\n",
    "    for u in range(0,m):\n",
    "        for i in range(0,n):\n",
    "            mat.append((usersTest[u],moviesTest[i],estimatedMatrix[u,i],matrixRating[u,i]))\n",
    "    rdd = sc.parallelize(mat)\n",
    "    print(\"Convertion of factor matrix to RDD: OK\")\n",
    "    return rdd\n",
    "\n",
    "predictiveRatingsRDD = mat2Rdd(m,n,factorMatrix)\n",
    "print(\"Predictive Ratings RDD :\\n\",predictiveRatingsRDD.collect())"
   ]
  },
  {
   "cell_type": "markdown",
   "metadata": {},
   "source": [
    "$$  \\ell_{u_i,i_j}(P,Q)= \\left(r_{ij} - p_{i}^{\\top}q_{j}\\right)^2 + \\lambda(|| p_{i} ||^{2} + || q_{j} ||^2 )  $$\n",
    "\n",
    "__Question 2__\n",
    "\n",
    "> Derive the update rules for gradient descent. \n",
    "\n",
    "> Implement a (full) gradient algorithm in `Python` on the training set.  Take a step size (learning rate) $\\gamma=0.001$ and stop after a specified number of iterations. Investigate the latent space size (e.g. $K=2,5,10,50$).\n",
    "\n",
    "> Provide plots and explanations for your experiments. \n",
    "\n",
    "> Try to parrallelize it so that the code can be run using `PySpark`. What do you conclude?\n",
    "\n",
    "Stochastic Gradient Descent (SGD) simply does away with the expectation in the update and computes the gradient of the parameters using only a single or a few training examples. In SGD the learning rate $\\gamma$ is typically much smaller than a corresponding learning rate in batch gradient descent because there is much more variance in the update."
   ]
  },
  {
   "cell_type": "code",
   "execution_count": 106,
   "metadata": {
    "collapsed": false,
    "scrolled": true
   },
   "outputs": [
    {
     "name": "stdout",
     "output_type": "stream",
     "text": [
      "Hello MAX_ITER 100000 \n",
      "\n",
      "nbUsers 19 nbMovies 3 \n",
      "\n",
      "(k =  2 ): \n",
      "\n",
      "0,1000,2000,3000,4000,5000,6000,7000,8000,9000,10000,11000,12000,13000,14000,15000,16000,17000,18000,19000,20000,21000,22000,23000,24000,25000,26000,27000,28000,29000,30000,31000,32000,33000,34000,35000,36000,37000,38000,39000,40000,41000,42000,43000,44000,45000,46000,47000,48000,49000,50000,51000,52000,53000,54000,55000,56000,57000,58000,59000,60000,61000,62000,63000,64000,65000,66000,67000,68000,69000,70000,71000,72000,73000,74000,75000,76000,77000,78000,79000,80000,81000,82000,83000,84000,85000,86000,87000,88000,89000,90000,91000,92000,93000,94000,95000,96000,97000,98000,99000,\n",
      "\n",
      "(k =  5 ): \n",
      "\n",
      "0,1000,2000,3000,4000,5000,6000,7000,8000,9000,10000,11000,12000,13000,14000,15000,16000,17000,18000,19000,20000,21000,22000,23000,24000,25000,26000,27000,28000,29000,30000,31000,32000,33000,34000,35000,36000,37000,38000,39000,40000,41000,42000,43000,44000,45000,46000,47000,48000,49000,50000,51000,52000,53000,54000,55000,56000,57000,58000,59000,60000,61000,62000,63000,64000,65000,66000,67000,68000,69000,70000,71000,72000,73000,74000,75000,76000,77000,78000,79000,80000,81000,82000,83000,84000,85000,86000,87000,88000,89000,90000,91000,92000,93000,94000,95000,96000,97000,98000,99000,\n",
      "\n",
      "(k =  10 ): \n",
      "\n",
      "0,1000,2000,3000,4000,5000,6000,7000,8000,9000,10000,11000,12000,13000,14000,15000,16000,17000,18000,19000,20000,21000,22000,23000,24000,25000,26000,27000,28000,29000,30000,31000,32000,33000,34000,35000,36000,37000,38000,39000,40000,41000,42000,43000,44000,45000,46000,47000,48000,49000,50000,51000,52000,53000,54000,55000,56000,57000,58000,59000,60000,61000,62000,63000,64000,65000,66000,67000,68000,69000,70000,71000,72000,73000,74000,75000,76000,77000,78000,79000,80000,81000,82000,83000,84000,85000,86000,87000,88000,89000,90000,91000,92000,93000,94000,95000,96000,97000,98000,99000,\n",
      "\n",
      "(k =  50 ): \n",
      "\n",
      "0,1000,2000,3000,4000,5000,6000,7000,8000,9000,10000,11000,12000,13000,14000,15000,16000,17000,18000,19000,20000,21000,22000,23000,24000,25000,26000,27000,28000,29000,30000,31000,32000,33000,34000,35000,36000,37000,38000,39000,40000,41000,42000,43000,44000,45000,46000,47000,48000,49000,50000,51000,52000,53000,54000,55000,56000,57000,58000,59000,60000,61000,62000,63000,64000,65000,66000,67000,68000,69000,70000,71000,72000,73000,74000,75000,76000,77000,78000,79000,80000,81000,82000,83000,84000,85000,86000,87000,88000,89000,90000,91000,92000,93000,94000,95000,96000,97000,98000,99000,\n",
      "\n",
      "Bye\n",
      "\n",
      " testing matrixRating 1 1 = 2.0 \n",
      "\n",
      "\n",
      " real rating: \n",
      " [[ 4.  2.  4.]\n",
      " [ 3.  2.  3.]\n",
      " [ 3.  2.  5.]\n",
      " [ 4.  5.  4.]\n",
      " [ 3.  3.  4.]\n",
      " [ 3.  5.  5.]\n",
      " [ 3.  3.  5.]\n",
      " [ 1.  3.  5.]\n",
      " [ 3.  4.  4.]\n",
      " [ 3.  5.  5.]\n",
      " [ 4.  3.  4.]\n",
      " [ 3.  3.  4.]\n",
      " [ 1.  4.  5.]\n",
      " [ 2.  4.  4.]\n",
      " [ 2.  2.  4.]\n",
      " [ 4.  1.  4.]\n",
      " [ 3.  3.  4.]\n",
      " [ 4.  1.  4.]\n",
      " [ 4.  2.  4.]] \n",
      "\n",
      "\n",
      " difference : \n",
      " [[ 0.08019942  0.05314474 -0.07130968]\n",
      " [ 0.18050731  0.17333661 -0.23393595]\n",
      " [-0.50736946 -0.54847813  0.77919336]\n",
      " [ 0.80234591  0.85401307 -1.15403179]\n",
      " [ 0.07728442  0.07938535 -0.08827867]\n",
      " [ 0.21477703  0.25239021 -0.30352875]\n",
      " [-0.26665397 -0.28152202  0.41828599]\n",
      " [-0.75391496 -0.76295301  1.10616276]\n",
      " [ 0.31799992  0.34634146 -0.44918603]\n",
      " [ 0.21477703  0.25239021 -0.30352875]\n",
      " [ 0.32091492  0.32010085 -0.43221705]\n",
      " [ 0.07728442  0.07938535 -0.08827867]\n",
      " [-0.51319946 -0.4959969   0.74525539]\n",
      " [ 0.07436942  0.10562597 -0.10524765]\n",
      " [-0.40706157 -0.42828626  0.61656709]\n",
      " [-0.16051608 -0.21381138  0.28959768]\n",
      " [ 0.07728442  0.07938535 -0.08827867]\n",
      " [-0.16051608 -0.21381138  0.28959768]\n",
      " [ 0.08019942  0.05314474 -0.07130968]] \n",
      "\n",
      "\n",
      " difference : \n",
      " [[ 0.0249289  -0.00486042  0.00964143]\n",
      " [ 0.01841957  0.00322921  0.00346336]\n",
      " [ 0.00396746 -0.01184164  0.03027161]\n",
      " [ 0.02326629  0.03638671 -0.01296484]\n",
      " [ 0.01063932  0.00944283  0.00933206]\n",
      " [ 0.00230486  0.02940549  0.00766534]\n",
      " [ 0.00341326  0.0019074   0.02273619]\n",
      " [-0.0240575   0.00301581  0.0371883 ]\n",
      " [ 0.01008511  0.02319187  0.00179664]\n",
      " [ 0.00230486  0.02940549  0.00766534]\n",
      " [ 0.0243747   0.00888862  0.00210601]\n",
      " [ 0.01063932  0.00944283  0.00933206]\n",
      " [-0.02461171  0.01676485  0.02965288]\n",
      " [-0.00365027  0.02374607  0.00902269]\n",
      " [-0.00254186 -0.00375201  0.02409354]\n",
      " [ 0.0254831  -0.01860946  0.01717685]\n",
      " [ 0.01063932  0.00944283  0.00933206]\n",
      " [ 0.0254831  -0.01860946  0.01717685]\n",
      " [ 0.0249289  -0.00486042  0.00964143]] \n",
      "\n",
      "\n",
      " difference : \n",
      " [[ 0.0249289  -0.00486042  0.00964143]\n",
      " [ 0.01841957  0.00322921  0.00346336]\n",
      " [ 0.00396746 -0.01184164  0.03027161]\n",
      " [ 0.02326629  0.03638671 -0.01296484]\n",
      " [ 0.01063932  0.00944283  0.00933206]\n",
      " [ 0.00230486  0.02940549  0.00766534]\n",
      " [ 0.00341326  0.0019074   0.02273619]\n",
      " [-0.0240575   0.00301581  0.0371883 ]\n",
      " [ 0.01008511  0.02319187  0.00179664]\n",
      " [ 0.00230486  0.02940549  0.00766534]\n",
      " [ 0.0243747   0.00888862  0.00210601]\n",
      " [ 0.01063932  0.00944283  0.00933206]\n",
      " [-0.02461171  0.01676485  0.02965288]\n",
      " [-0.00365027  0.02374607  0.00902269]\n",
      " [-0.00254186 -0.00375201  0.02409354]\n",
      " [ 0.0254831  -0.01860946  0.01717685]\n",
      " [ 0.01063932  0.00944283  0.00933206]\n",
      " [ 0.0254831  -0.01860946  0.01717685]\n",
      " [ 0.0249289  -0.00486042  0.00964143]] \n",
      "\n",
      "\n",
      " difference : \n",
      " [[ 0.0249289  -0.00486042  0.00964143]\n",
      " [ 0.01841957  0.00322921  0.00346336]\n",
      " [ 0.00396746 -0.01184164  0.03027161]\n",
      " [ 0.02326629  0.03638671 -0.01296484]\n",
      " [ 0.01063932  0.00944283  0.00933206]\n",
      " [ 0.00230486  0.02940549  0.00766534]\n",
      " [ 0.00341326  0.0019074   0.02273619]\n",
      " [-0.0240575   0.00301581  0.0371883 ]\n",
      " [ 0.01008511  0.02319187  0.00179664]\n",
      " [ 0.00230486  0.02940549  0.00766534]\n",
      " [ 0.0243747   0.00888862  0.00210601]\n",
      " [ 0.01063932  0.00944283  0.00933206]\n",
      " [-0.02461171  0.01676485  0.02965288]\n",
      " [-0.00365027  0.02374607  0.00902269]\n",
      " [-0.00254186 -0.00375201  0.02409354]\n",
      " [ 0.0254831  -0.01860946  0.01717685]\n",
      " [ 0.01063932  0.00944283  0.00933206]\n",
      " [ 0.0254831  -0.01860946  0.01717685]\n",
      " [ 0.0249289  -0.00486042  0.00964143]] \n",
      "\n"
     ]
    }
   ],
   "source": [
    "import numpy as np\n",
    "\n",
    "MAX_ITER = 1000\n",
    "\n",
    "def MSE(pu,qi,lamb,rij,rijHat):\n",
    "    e = pow(rij - rijHat,2) + lamb * (pow(np.linalg.norm(pu,2),2) + pow(np.linalg.norm(qi,2),2))\n",
    "    return e\n",
    "\n",
    "def MSE_grad(pu,qi,lamb,rij,rijHat):\n",
    "    _grad_p = - 2 * qi * (rij - rijHat) + 2 * lamb * pu\n",
    "    _grad_q = - 2 * pu * (rij - rijHat) + 2 * lamb * qi\n",
    "    return  (_grad_p, _grad_q)\n",
    "\n",
    "#def grad_algo(u,i,k,lamb,nb_iter,rdd,index):\n",
    "#    t = 0\n",
    "#    gamma = 0.001\n",
    "#    pu = randomArray(k,-1,1)\n",
    "#    qi = randomArray(k,-1,1)\n",
    "#    rijHat = np.dot(pu,qi)\n",
    "#    rij =  rdd.filter(lambda x : x[0]==u).filter(lambda x : x[1]==i)\\\n",
    "#                                    .map(lambda x : x[index]).collect()[0]\n",
    "#    mse_tab = np.zeros(nb_iter)\n",
    "#    \n",
    "#    while t < nb_iter:\n",
    "#        #print(i, end=' ')\n",
    "#        mse_grad = MSE_grad(pu,qi,lamb,rij,rijHat)\n",
    "#        mse_tab[t] = MSE(pu,qi,lamb,rij,rijHat) s   \n",
    "#        pu = pu - gamma * mse_grad[0]\n",
    "#        qi = qi - gamma * mse_grad[1]\n",
    "#        rijHat = np.dot(pu,qi)\n",
    "#        t += 1\n",
    "#    return pu, qi, mse_tab\n",
    "##############\"\n",
    "nbUsers = len(usersTest)\n",
    "nbMovies = len(moviesTest)\n",
    "##########\"###\n",
    "def MSE_gradSum(k,pu,qi,lamb,r,rHat):\n",
    "    grad_p = np.zeros((nbUsers,k))\n",
    "    grad_q = np.zeros((k,nbMovies))\n",
    "    for u in range(0,nbUsers):\n",
    "        for i in range(0,nbMovies):\n",
    "            #print(\"u\",u,\"i\",i,end = ' ')\n",
    "            if r[u][i] != -1:\n",
    "                _grad_p, _grad_q = MSE_grad(pu[u,:],qi[:,i],lamb,r[u,i],rHat[u,i])\n",
    "                grad_p[u,:] = grad_p[u,:] + _grad_p\n",
    "                grad_q[:,i] = grad_q[:,i] + _grad_q\n",
    "    return grad_p, grad_q\n",
    "\n",
    "def MSE_Sum(k,pu,qi,lamb,r,rHat):\n",
    "    _MSE = 0\n",
    "    for u in range(0,nbUsers):\n",
    "        for i in range(0,nbMovies):\n",
    "            if r[u][i] != -1:\n",
    "                _MSE += MSE(pu[u,:],qi[:,i],lamb,r[u][i],rHat[u][i])\n",
    "    return _MSE\n",
    "# matrixRating\n",
    "# factorMatrix\n",
    "\n",
    "def grad_algoSum(k,lamb,nb_iter,matrixRating):\n",
    "    t = 0\n",
    "    gamma = 0.001\n",
    "    \n",
    "    pu = np.random.rand(nbUsers,k)\n",
    "    qi = np.random.rand(k,nbMovies)\n",
    "    rHat = np.dot(pu,qi)\n",
    "    r = matrixRating\n",
    "    #rij =  rdd.filter(lambda x : x[0]==u).filter(lambda x : x[1]==i)\\\n",
    "     #                               .map(lambda x : x[index]).collect()[0]\n",
    "    mse_tab = np.zeros(nb_iter)\n",
    "    \n",
    "    while t < nb_iter:\n",
    "        if t % 1000 == 0:\n",
    "            print(t, end=',')\n",
    "        mse_grad = MSE_gradSum(k,pu,qi,lamb,r,rHat)\n",
    "        mse_tab[t] = MSE_Sum(k,pu,qi,lamb,r,rHat)    \n",
    "        pu = pu - gamma * mse_grad[0]\n",
    "        qi = qi - gamma * mse_grad[1]\n",
    "        rHat = np.dot(pu,qi)\n",
    "        t += 1\n",
    "    return pu, qi, mse_tab\n",
    "\n",
    "k = [2,5,10,50]\n",
    "pu = [0,0,0,0]\n",
    "qi = [0,0,0,0]\n",
    "mse_tab = [0,0,0,0]\n",
    "MAX_ITER = 100000\n",
    "print(\"Hello MAX_ITER\",MAX_ITER,\"\\n\")\n",
    "print(\"nbUsers\",nbUsers,\"nbMovies\",nbMovies,\"\\n\")\n",
    "for i in range(0,4):\n",
    "    print(\"(k = \",k[i],\"): \\n\")\n",
    "    pu[i], qi[i], mse_tab[i] = grad_algoSum(k[i],lamb,MAX_ITER,matrixRating)\n",
    "    print(\"\\n\")\n",
    "print(\"Bye\")\n",
    "#print(mse_tab)\n",
    "# [u*len(moviesTest)+i]\n",
    "\n",
    "\n",
    "\n",
    "print(\"\\n testing matrixRating\",1,1, \"=\",testing,\"\\n\")\n",
    "\n",
    "print(\"\\n real rating: \\n\",matrixRating,\"\\n\")\n",
    "matrixRating[1,1] = testing \n",
    "#print(\"\\n estimation : \\n\",np.dot(pu,qi),\"\\n\")\n",
    "for i in range(0,4):\n",
    "    print(\"\\n difference : \\n\",matrixRating-np.dot(pu[i],qi[i]),\"\\n\")\n",
    "    \n",
    "\n"
   ]
  },
  {
   "cell_type": "code",
   "execution_count": 109,
   "metadata": {
    "collapsed": false
   },
   "outputs": [
    {
     "name": "stdout",
     "output_type": "stream",
     "text": [
      "estimation result : \n",
      " [[ 3.9750711   2.00486042  3.99035857]\n",
      " [ 2.98158043  1.99677079  2.99653664]\n",
      " [ 2.99603254  2.01184164  4.96972839]\n",
      " [ 3.97673371  4.96361329  4.01296484]\n",
      " [ 2.98936068  2.99055717  3.99066794]\n",
      " [ 2.99769514  4.97059451  4.99233466]\n",
      " [ 2.99658674  2.9980926   4.97726381]\n",
      " [ 1.0240575   2.99698419  4.9628117 ]\n",
      " [ 2.98991489  3.97680813  3.99820336]\n",
      " [ 2.99769514  4.97059451  4.99233466]\n",
      " [ 3.9756253   2.99111138  3.99789399]\n",
      " [ 2.98936068  2.99055717  3.99066794]\n",
      " [ 1.02461171  3.98323515  4.97034712]\n",
      " [ 2.00365027  3.97625393  3.99097731]\n",
      " [ 2.00254186  2.00375201  3.97590646]\n",
      " [ 3.9745169   1.01860946  3.98282315]\n",
      " [ 2.98936068  2.99055717  3.99066794]\n",
      " [ 3.9745169   1.01860946  3.98282315]\n",
      " [ 3.9750711   2.00486042  3.99035857]] \n",
      "\n"
     ]
    }
   ],
   "source": [
    "print(\"estimation result : \\n\",np.dot(pu[i],qi[i]),\"\\n\")"
   ]
  },
  {
   "cell_type": "code",
   "execution_count": 113,
   "metadata": {
    "collapsed": false
   },
   "outputs": [
    {
     "name": "stdout",
     "output_type": "stream",
     "text": [
      "\n",
      "Courbe 1 [ red ]\n",
      " k = 2\n",
      "\n",
      "Courbe 2 [ green ]\n",
      " k = 5\n",
      "\n",
      "Courbe 3 [ blue ]\n",
      " k = 10\n",
      "\n",
      "Courbe 4 [ black ]\n",
      " k = 50\n"
     ]
    },
    {
     "data": {
      "image/png": "[encoded data removed]",
      "text/plain": [
       "<matplotlib.figure.Figure at 0x7f7b1ce0b080>"
      ]
     },
     "metadata": {},
     "output_type": "display_data"
    }
   ],
   "source": [
    "import matplotlib.pyplot as plt\n",
    "%matplotlib inline  \n",
    "\n",
    "\n",
    "def plot_res(g_tab,col):\n",
    "    plt.plot(range(10,MAX_ITER), g_tab[10:], col, linewidth=1.0, linestyle=\"-\")\n",
    "    #plt.plot(range(2000,MAX_ITER), g_tab[2000:], col, linewidth=1.0, linestyle=\"-\")\n",
    "\n",
    "colors = [\"red\", \"green\", \"blue\",\"black\"]\n",
    "plt.figure()\n",
    "for i in range(0,4):\n",
    "    print(\"\\nCourbe\", i+1, \"[\",colors[i],\"]\\n k =\", k[i])\n",
    "    plot_res(mse_tab[i],colors[i])\n",
    "plt.xlim(10, MAX_ITER)\n",
    "plt.xlabel('Number of iterations')\n",
    "plt.ylabel('Functional value')\n",
    "plt.show()\n"
   ]
  },
  {
   "cell_type": "code",
   "execution_count": 78,
   "metadata": {
    "collapsed": false
   },
   "outputs": [
    {
     "name": "stdout",
     "output_type": "stream",
     "text": [
      "36\n",
      "35\n",
      "[-4.36936056  7.12964772  4.69462682 -2.80226559  4.99411287]\n",
      "30\n",
      "[ 5.00613716 -1.23558527 -0.9282347   5.52240953  3.78631992]\n",
      "[(1, 1, 5.0)]\n",
      "3.00009337223\n"
     ]
    }
   ],
   "source": [
    "U = 1\n",
    "Umovies = trainingSample.filter(lambda x : x[0] == U).map(lambda x : x[1]).collect()\n",
    "print(len(Umovies))\n",
    "\n",
    "P = np.zeros(k)\n",
    "Q = np.zeros(k)\n",
    "\n",
    "for m in Umovies :\n",
    "        p,q,mse = grad_algo(U,m,5,1,MAX_ITER,trainingSample,2)\n",
    "        P = P + p\n",
    "print(P)\n",
    "\n",
    "I = 1907  \n",
    "Iusers = trainingSample.filter(lambda x : x[1] == I).map(lambda x : x[0]).collect()[:30]\n",
    "print(len(Iusers))\n",
    "\n",
    "for u in Iusers :\n",
    "        p,q,mse = grad_algo(u,I,5,1,MAX_ITER,trainingSample,2)\n",
    "        Q = Q + q\n",
    "print(Q)\n",
    "\n",
    "a = trainingSample.filter(lambda x : x[0] == 1).filter(lambda x : x[1] == 1).collect()\n",
    "print(a)\n",
    "print(np.dot(q,p))\n",
    "\n",
    "#rating = trainingSample.filter(lambda x : x[0] == 1).filter(lambda x : x[1] == 1).map(lambda x : x[2]).collect()[0]\n",
    "#p,q,mse = grad_algo(1,1,5,1,MAX_ITER,trainingSample,2)\n",
    "#print(np.dot(p,q),rating)"
   ]
  },
  {
   "cell_type": "code",
   "execution_count": 77,
   "metadata": {
    "collapsed": false
   },
   "outputs": [
    {
     "name": "stdout",
     "output_type": "stream",
     "text": [
      "Mulan (1998)\n",
      "['Animation', \"Children's\"] \n",
      "\n",
      "['Animation', \"Children's\", 'Musical']\n",
      "['Musical', 'Romance']\n",
      "['Drama']\n",
      "['Animation', \"Children's\", 'Comedy']\n",
      "['Action', 'Adventure', 'Comedy', 'Romance']\n",
      "['Action', 'Adventure', 'Drama']\n",
      "['Comedy', 'Drama']\n",
      "['Animation', \"Children's\", 'Musical']\n",
      "['Adventure', \"Children's\", 'Drama', 'Musical']\n",
      "['Drama']\n",
      "['Comedy']\n",
      "['Musical']\n",
      "['Comedy']\n",
      "['Animation', \"Children's\"]\n",
      "['Animation', \"Children's\"]\n",
      "['Drama']\n",
      "['Romance']\n",
      "['Drama', 'Romance']\n",
      "['Animation', 'Comedy', 'Thriller']\n",
      "['Animation', \"Children's\"]\n",
      "['Drama']\n",
      "['Animation', \"Children's\", 'Comedy', 'Musical']\n",
      "['Animation', \"Children's\"]\n",
      "['Animation', \"Children's\", 'Musical']\n",
      "['Animation', \"Children's\", 'Musical']\n",
      "['Thriller']\n",
      "['Drama']\n",
      "['Animation', \"Children's\", 'Comedy']\n",
      "['Drama']\n",
      "['Action', 'Crime', 'Romance']\n",
      "['Action', 'Adventure', 'Fantasy', 'Sci-Fi']\n",
      "['Action', 'Drama', 'War']\n",
      "[\"Children's\", 'Drama']\n",
      "['Animation', \"Children's\", 'Comedy']\n",
      "['Crime', 'Drama', 'Thriller']\n",
      "['Drama']\n"
     ]
    }
   ],
   "source": [
    "moviesRDD = sc.textFile(movieLensHomeDir + \"movies.dat\").map(parseMovie).setName(\"movies\").cache()\n",
    "movies_dict = {}\n",
    "for i,title in moviesRDD.map(lambda x : (x[0],x[1])).collect():\n",
    "    movies_dict_temp = {i:title}\n",
    "    movies_dict.update(movies_dict_temp)\n",
    "\n",
    "\n",
    "def getGenresOfMovie(movie):\n",
    "    return moviesRDD.filter(lambda x : x[1] == movie).map(lambda y : y[2]).flatMap(lambda x : x.split(\"|\")).collect()\n",
    "\n",
    "print(movies_dict[I])\n",
    "print(getGenresOfMovie(movies_dict[I]),\"\\n\")\n",
    "\n",
    "for i in Umovies:\n",
    "    print(getGenresOfMovie(movies_dict[i]))"
   ]
  },
  {
   "cell_type": "markdown",
   "metadata": {},
   "source": [
    "__Question 3__\n",
    "> Implement stochastic gradient descent algorithm for Matrix Factorization.\n",
    "\n",
    "> Provide plots and explanations for your experiments.\n",
    "\n",
    "> Compare and discuss the results with the (full) gradient algorithm in terms of MSE versus full data passes.\n",
    "\n",
    "> Discuss the stepsize choice of SGD (e.g. constant v.s. 1/`nb_iter`)."
   ]
  },
  {
   "cell_type": "code",
   "execution_count": null,
   "metadata": {
    "collapsed": true
   },
   "outputs": [],
   "source": [
    "def stoc_grad_algo(u,i,k,lamb,nb_iter):\n",
    "    t = 0\n",
    "    gamma = 0.001\n",
    "    pu = randomArray(k,-1,1)\n",
    "    qi = randomArray(k,-1,1)\n",
    "    rijHat = np.dot(pu,qi)\n",
    "    rij =  predictiveRatingsRDD.filter(lambda x : x[0]==u).filter(lambda x : x[1]==i)\\\n",
    "                                    .map(lambda x : x[3]).collect()[0]\n",
    "    mse_tab = np.zeros(nb_iter)\n",
    "    \n",
    "    while t < nb_iter:\n",
    "        #print(i, end=' ')\n",
    "        mse_grad = MSE_grad(pu,qi,lamb,rij,rijHat)\n",
    "        mse_tab[t] = MSE(pu,qi,lamb,rij,rijHat)    \n",
    "        pu = pu - gamma * mse_grad[0]\n",
    "        qi = qi - gamma * mse_grad[1]\n",
    "        rijHat = np.dot(pu,qi)\n",
    "        t += 1\n",
    "    return pu, qi, mse_tab"
   ]
  },
  {
   "cell_type": "markdown",
   "metadata": {},
   "source": [
    "Now we will implement Large-Scale Matrix Factorization with Distributed Stochastic Gradient Descent (DSGD) in Spark. \n",
    "The algorithm is described in the following article: <br \\><br \\>\n",
    "_Gemulla, R., Nijkamp, E., Haas, P. J., & Sismanis, Y. (2011). Large-scale matrix factorization with distributed stochastic gradient descent. New York, USA._<br \\><br \\>\n",
    "The paper sets forth a solution for matrix factorization using minimization of sum of local losses.  The solution involves dividing the matrix into strata for each iteration and performing sequential stochastic gradient descent within each stratum in parallel.  DSGD is a fully distributed algorithm, i.e. both the data matrix $R$ and factor matrices $P$ and $Q$ can be carefully split and distributed to multiple workers for parallel computation without communication costs between the workers. Hence, it is a good match for implementation in a distributed in-memory data processing system like Spark. \n",
    "\n",
    "__Question 4__\n",
    "\n",
    "> Implement a `PySpark` version of DSGD.\n",
    "\n",
    "> Test on different number of cores on a local machine (1 core, 2 cores, 4 cores). Ran the ALS method already implemented in MLlib as a reference for comparison."
   ]
  },
  {
   "cell_type": "code",
   "execution_count": null,
   "metadata": {
    "collapsed": true
   },
   "outputs": [],
   "source": []
  }
 ],
 "metadata": {
  "kernelspec": {
   "display_name": "Python 3",
   "language": "python",
   "name": "python3"
  },
  "language_info": {
   "codemirror_mode": {
    "name": "ipython",
    "version": 3
   },
   "file_extension": ".py",
   "mimetype": "text/x-python",
   "name": "python",
   "nbconvert_exporter": "python",
   "pygments_lexer": "ipython3",
   "version": "3.5.2"
  }
 },
 "nbformat": 4,
 "nbformat_minor": 0
}
