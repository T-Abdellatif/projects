{
 "cells": [
  {
   "cell_type": "code",
   "execution_count": 13,
   "metadata": {
    "collapsed": false
   },
   "outputs": [
    {
     "ename": "SyntaxError",
     "evalue": "invalid syntax (<ipython-input-13-b921ef4f48ec>, line 1)",
     "output_type": "error",
     "traceback": [
      "\u001b[0;36m  File \u001b[0;32m\"<ipython-input-13-b921ef4f48ec>\"\u001b[0;36m, line \u001b[0;32m1\u001b[0m\n\u001b[0;31m    <small><i>This notebook was create by Franck Iutzeler, Jerome Malick and Yann Vernaz (2016).</i></small>\u001b[0m\n\u001b[0m    ^\u001b[0m\n\u001b[0;31mSyntaxError\u001b[0m\u001b[0;31m:\u001b[0m invalid syntax\n"
     ]
    }
   ],
   "source": [
    "<small><i>This notebook was create by Franck Iutzeler, Jerome Malick and Yann Vernaz (2016).</i></small>\n",
    "<!-- Credit (images) Jeffrey Keating Thompson. -->"
   ]
  },
  {
   "cell_type": "markdown",
   "metadata": {},
   "source": [
    "<center><img src=\"UGA.png\" width=\"30%\" height=\"30%\"></center>\n",
    "<center><h3>Master of Science in Industrial and Applied Mathematics (MSIAM)</h3></center>\n",
    "<hr>\n",
    "<center><h1>Convex and distributed optimization</h1></center>\n",
    "<center><h2>Part II - Classification (3h + 3h home work)</h2></center>"
   ]
  },
  {
   "cell_type": "markdown",
   "metadata": {},
   "source": [
    "# Outline\n",
    "\n",
    "In this Lab, we will investigate some gradient-based and proximal algorithms on the binary classification problems with logistic regression."
   ]
  },
  {
   "cell_type": "markdown",
   "metadata": {},
   "source": [
    "# Supervised Classification and Logistic Regression\n",
    "\n",
    "### Machine Learning as an Optimization problem\n",
    "\n",
    "We have some *data*  $\\mathcal{D}$ consisting of $m$ *examples* $\\{d_i\\}$; each example consisting of a *feature* vector $a_i\\in\\mathbb{R}^d$ and an *observation* $b_i\\in \\mathcal{O}$: $\\mathcal{D} = \\{[a_i,b_i]\\}_{i=1..m}$ .\n",
    "\n",
    "\n",
    "The goal of *supervised learning* is to construct a predictor for the observations when given feature vectors.\n",
    "\n",
    "\n",
    "A popular approach is based on *linear models* which are based on finding a *parameter* $x$ such that the real number $\\langle a_i , x \\rangle$ is used to predict the value of the observation through a *predictor function* $g:\\mathbb{R}\\to \\mathcal{O}$: $g(\\langle a_i , x \\rangle)$ is the predicted value from $a_i$.\n",
    "\n",
    "\n",
    "In order to find such a parameter, we use the available data and a *loss* $\\ell$ that penalizes the error made between the predicted $g(\\langle a_i , x \\rangle)$ and observed $b_i$ values. For each example $i$, the corresponding error function for a parameter $x$ is $f_i(x) =   \\ell( g(\\langle a_i , x \\rangle) ; b_i )$. Using the whole data, the parameter that minimizes the total error is the solution of the minimization problem\n",
    "$$ \\min_{x\\in\\mathbb{R}^d} \\frac{1}{m} \\sum_{i=1}^m f_i(x) = \\frac{1}{m} \\sum_{i=1}^m  \\ell( g(\\langle a_i , x \\rangle) ; b_i ). $$\n",
    "\n",
    "\n",
    "### Binary Classification with Logisitic Regression\n",
    "\n",
    "In our setup, the observations are binary: $\\mathcal{O} = \\{-1 , +1 \\}$, and the *Logistic loss* is used to form the following optimization problem\n",
    "\\begin{align*}\n",
    "\\min_{x\\in\\mathbb{R}^d } f(x) := \\frac{1}{m}  \\sum_{i=1}^m  \\log( 1+\\exp(-b_i \\langle a_i,x \\rangle) ).\n",
    "\\end{align*}\n",
    "\n",
    "Under some statistical hypotheses, $x^\\star = \\arg\\min f(x)$ maximizes the likelihood of the labels knowing the features vector. Then, for a new point $d$ with features vector $a$, \n",
    "$$ p_1(a) = \\mathbb{P}[d\\in \\text{ class }  +1] = \\frac{1}{1+\\exp(-\\langle a;x^\\star \\rangle)} $$\n",
    "Thus, from $a$, if $p_1(a)$ is close to $1$, one can decide that $d$ belongs to class $1$; and the opposite decision if $p(a)$ is close to $0$. Between the two, the appreciation is left to the data scientist depending on the application.\n"
   ]
  },
  {
   "cell_type": "markdown",
   "metadata": {},
   "source": [
    "# Supervised classification datasets\n",
    "\n"
   ]
  },
  {
   "cell_type": "markdown",
   "metadata": {},
   "source": [
    "### Reading the dataset\n",
    "\n",
    "We will use LibSVM formatted data, meaning that each line of the file (i.e. each example) will have the form\n",
    "\n",
    "<tt>class feature_number1:feature_value1 feature_number2:feature_value2 ... feature_number$n_i$:feature_value$n_i$ </tt>\n",
    "\n",
    "You may read such a file using MLUtils's <a href=\"http://spark.apache.org/docs/latest/api/python/pyspark.mllib.html#pyspark.mllib.util.MLUtils.loadLibSVMFile\">`loadLibSVMFile`</a> routine on the supervised classification datasets below.\n",
    "\n",
    "The elements of the produced RDD have the form of <a href=\"https://spark.apache.org/docs/latest/api/python/pyspark.mllib.html#pyspark.mllib.regression.LabeledPoint\">`LabeledPoints`</a> composed of a label `example.label` corresponding to the class (+1 or -1) and a feature vector `example.features` generally encoded as a <a href=\"https://spark.apache.org/docs/latest/api/python/pyspark.mllib.html#pyspark.mllib.linalg.SparseVector\">`SparseVector`</a>.\n"
   ]
  },
  {
   "cell_type": "code",
   "execution_count": 1,
   "metadata": {
    "collapsed": false
   },
   "outputs": [],
   "source": [
    "# set up spark environment (using Spark local mode set to # cores on your machine)\n",
    "from pyspark import SparkContext, SparkConf\n",
    "\n",
    "conf = SparkConf()\n",
    "conf.setMaster(\"local[*]\")\n",
    "conf.setAppName(\"MSIAM part II - Logistic Regression\")\n",
    "\n",
    "sc = SparkContext(conf = conf)"
   ]
  },
  {
   "cell_type": "markdown",
   "metadata": {},
   "source": [
    "We remind you that you can access this interface (Spark UI) by simply opening http://localhost:4040 in a web browser."
   ]
  },
  {
   "cell_type": "code",
   "execution_count": 2,
   "metadata": {
    "collapsed": true
   },
   "outputs": [],
   "source": [
    "# path to LibSVM Datasets\n",
    "LibSVMHomeDir=\"data/LibSVM/\"\n",
    "LibName=\"ionosphere.txt\"             # a small dataset to begin with\n",
    "#LibName=\"rcv1_train.binary\"          # a bigger one "
   ]
  },
  {
   "cell_type": "markdown",
   "metadata": {},
   "source": [
    "__Question 1__\n",
    "> Form an RDD from the selected dataset.\n",
    "\n",
    "> Count the number of examples, features, the number of examples of class '+1' and the density of the dataset."
   ]
  },
  {
   "cell_type": "code",
   "execution_count": 3,
   "metadata": {
    "collapsed": false
   },
   "outputs": [
    {
     "name": "stdout",
     "output_type": "stream",
     "text": [
      "Number of examples:  351\n",
      "The number of features is :  34\n",
      "The number of examples of class +1 is :  225\n",
      "Density : 0.884112619406737\n"
     ]
    }
   ],
   "source": [
    "from pyspark.mllib.stat import KernelDensity\n",
    "from pyspark.mllib.util import MLUtils\n",
    "from pyspark.mllib.regression import LabeledPoint\n",
    "from pyspark.mllib.stat import Statistics\n",
    "import os.path\n",
    "\n",
    "path = os.path.join(LibSVMHomeDir,LibName)\n",
    "data = MLUtils.loadLibSVMFile(sc,path)\n",
    "\n",
    "def nbExamples(rdd) :\n",
    "    return rdd.count()\n",
    "def nbFeatures(rdd) :\n",
    "    nbFeatures = rdd.map(lambda line : line.features.size).sum()\n",
    "    return int(nbFeatures/rdd.count())\n",
    "def density(rdd) :\n",
    "    nbFeatures = rdd.map(lambda line : line.features.size).sum()\n",
    "    nonZeros = data.map(lambda line: line.features.numNonzeros()).sum()\n",
    "    return nonZeros/nbFeatures\n",
    "\n",
    "print(\"Number of examples: \",nbExamples(data))\n",
    "print(\"The number of features is : \",nbFeatures(data))\n",
    "nbClassPlus1Examples = data.map(lambda line: line.label).filter(lambda s : float(s) == 1)\n",
    "print(\"The number of examples of class +1 is : \",nbExamples(nbClassPlus1Examples))\n",
    "print(\"Density :\",density(data))"
   ]
  },
  {
   "cell_type": "markdown",
   "metadata": {},
   "source": [
    "### Preprocessing\n",
    "\n",
    "An important first step for learning by regression is to preprocess the dataset. This processing usually consists in:\n",
    "* Adding an intercept, that is an additional feature equal to one for all examples (statistically, this accounts for the fact that the two classes may be imbalanced).\n",
    "* For the dense datasets:\n",
    "    *  normalize to have zero-mean and unit variance for every feature (except the interecept for instance.\n",
    "* For sparse datasets:\n",
    "    * normalize so that the feature vector has unit $\\ell_2$ norm for each example.\n",
    "\n",
    "This does not really change the problem but it will ease the convergence of the applied optimization algorithms.\n",
    "\n",
    "__Question 2__\n",
    "> Form a new RDD with the scaled version of the dataset.\n",
    "\n",
    "> Check that the number of examples, features, and the density is correct."
   ]
  },
  {
   "cell_type": "code",
   "execution_count": 4,
   "metadata": {
    "collapsed": false
   },
   "outputs": [
    {
     "name": "stdout",
     "output_type": "stream",
     "text": [
      "Number of examples in the dataset : 351 \n",
      "Number of examples in normalized data : 351\n",
      "\n",
      "Number of features in the dataset : 34 \n",
      "Number of features in normalized data : 35\n",
      "\n",
      "Density of the dataset : 0.884112619406737 \n",
      "Density of the normalized dataset : 0.8588522588522588\n"
     ]
    }
   ],
   "source": [
    "from pyspark.mllib.feature import Normalizer\n",
    "from pyspark.mllib.util import *\n",
    "\n",
    "normalizedData = data.map(lambda line : LabeledPoint(line.label,Normalizer().transform(line.features.toArray())))\n",
    "scaledNormData = normalizedData.map(lambda line : LabeledPoint(line.label,np.append(line.features.toArray(),1)))\n",
    "\n",
    "print(\"Number of examples in the dataset :\",nbExamples(data),\"\\n\\\n",
    "Number of examples in normalized data :\",nbExamples(scaledNormData))\n",
    "\n",
    "print(\"\\nNumber of features in the dataset :\",nbFeatures(data),\"\\n\\\n",
    "Number of features in normalized data :\",nbFeatures(scaledNormData))\n",
    "\n",
    "print(\"\\nDensity of the dataset :\",density(data),\"\\n\\\n",
    "Density of the normalized dataset :\",density(scaledNormData))"
   ]
  },
  {
   "cell_type": "markdown",
   "metadata": {},
   "source": [
    "#  Initialization\n",
    "\n",
    "We will set up here the variables, and the training versus testing dataset. Indeed, we will take a portion of the dataset to learn called the `learning set`, say $95$%, and we will test our predictions on the rest, the `testing set`."
   ]
  },
  {
   "cell_type": "markdown",
   "metadata": {},
   "source": [
    "__Question 3__\n",
    "\n",
    ">  Split the scaled dataset into a training and a testing set. For instance, you may use the function <a href=\"http://spark.apache.org/docs/latest/api/python/pyspark.html#pyspark.RDD.randomSplit\">`randomSplit`</a>.\n",
    "\n",
    "> Count the number of examples, and subjects in class '+1' in each set."
   ]
  },
  {
   "cell_type": "code",
   "execution_count": 5,
   "metadata": {
    "collapsed": false
   },
   "outputs": [
    {
     "name": "stdout",
     "output_type": "stream",
     "text": [
      "The number of examples in the dataset :  351\n",
      "The number of examples in the training dataset :  340\n",
      "The number of examples in the testing dataset :  11\n",
      "\n",
      "The number of examples in class +1 dataset :  225\n",
      "The number of examples in class +1 training dataset :  217\n",
      "The number of examples in class +1 testing dataset:  8\n"
     ]
    }
   ],
   "source": [
    "trainingData, testingData = scaledNormData.randomSplit([95, 5])\n",
    "print(\"The number of examples in the dataset : \",nbExamples(scaledNormData))\n",
    "print(\"The number of examples in the training dataset : \",nbExamples(trainingData))\n",
    "print(\"The number of examples in the testing dataset : \",nbExamples(testingData))\n",
    "\n",
    "classPlus1Data = scaledNormData.filter(lambda line : line.label == 1)\n",
    "classPlus1TrainingData = trainingData.filter(lambda line : line.label == 1)\n",
    "classPlus1TestingData = testingData.filter(lambda line : line.label == 1)\n",
    "print(\"\\nThe number of examples in class +1 dataset : \",nbExamples(classPlus1Data))\n",
    "print(\"The number of examples in class +1 training dataset : \",nbExamples(classPlus1TrainingData))\n",
    "print(\"The number of examples in class +1 testing dataset: \",nbExamples(classPlus1TestingData))"
   ]
  },
  {
   "cell_type": "markdown",
   "metadata": {},
   "source": [
    "#  Minimization of the logistic loss with the Gradient algorithm\n",
    "\n",
    "The goal of this section is to: \n",
    "1. Compute gradients of the loss functions.\n",
    "2. Implement a Gradient algorithm.\n",
    "3. Observe the prediction accuracy of the developed methods."
   ]
  },
  {
   "cell_type": "markdown",
   "metadata": {},
   "source": [
    "__Question 4__\n",
    ">Define a routine computing functional loss and gradient from one example \n",
    "\n",
    "For a Labeled point <tt>example</tt> (`LabeledPoint(example.label,example.features)`) that we denoted $(b_i,a_i)$ and a regressor <tt>x</tt>, compute $f_i(x) = \\log(1+\\exp(-b_i \\langle a_i,x\\rangle) )$ and $\\nabla f_i(x)$.\n"
   ]
  },
  {
   "cell_type": "code",
   "execution_count": 6,
   "metadata": {
    "collapsed": false
   },
   "outputs": [
    {
     "name": "stdout",
     "output_type": "stream",
     "text": [
      "The logistic loss for the first example is :\n",
      " 0.4326745940907781\n"
     ]
    }
   ],
   "source": [
    "from math import *\n",
    "from random import *\n",
    "\n",
    "import numpy as np\n",
    "def logistic_loss_per_example(example,x):\n",
    "    \"\"\" Computes the logistic loss for a Labeled point\n",
    "    Args:\n",
    "        example: a labeled point\n",
    "        x: regressor\n",
    "    Returns:\n",
    "        real value: l \n",
    "    \"\"\"\n",
    "    f = log(1 + exp(-1 * example.label * np.dot(example.features,x)))\n",
    "\n",
    "    return f\n",
    "\n",
    "def randomArray(size) :\n",
    "    x = np.zeros(size)\n",
    "    for i in range(1,size) :\n",
    "        x[i] = uniform(-1,1)\n",
    "    return x\n",
    "\n",
    "size = trainingData.first().features.size\n",
    "testLoss = trainingData.map(lambda line : logistic_loss_per_example(line,randomArray(size)))\n",
    "print(\"The logistic loss for the first example is :\\n\",testLoss.first())"
   ]
  },
  {
   "cell_type": "code",
   "execution_count": 7,
   "metadata": {
    "collapsed": false
   },
   "outputs": [
    {
     "name": "stdout",
     "output_type": "stream",
     "text": [
      "The logistic grad for the first example is :\n",
      " [-0.109386701112,-0.0,-0.108882428419,0.00644178282846,-0.0932445056285,-0.00252245732763,-0.091226320993,0.0412475372551,-0.109386701112,-0.00411293996179,-0.0932445056285,0.0194216087824,-0.0653640232492,0.0491638528146,-0.0662183333849,0.0418108787659,-0.0922742455897,0.0421598223424,-0.0636761864511,0.0352137668218,-0.0623186974903,0.0324594096878,-0.0404140105927,0.0518022600454,-0.0621436787685,0.0559742688258,-0.0449338690826,0.0505016521692,-0.0232621758584,0.0372899264089,-0.0462344769588,0.0596015318347,-0.0203907749542,0.0495521756035,-0.351228428437]\n"
     ]
    }
   ],
   "source": [
    "import numpy as np\n",
    "def logistic_grad_per_example(example,x):\n",
    "    \"\"\" Computes the logistic gradient for a Labeled point\n",
    "    Args:\n",
    "        example: a labeled point\n",
    "        x: regressor\n",
    "    Returns:\n",
    "        numpy array: g \n",
    "    \"\"\"\n",
    "    g = (-1 * example.label * example.features)/(1 + exp(example.label * np.dot(example.features,x)))\n",
    "    return  g\n",
    "\n",
    "testGradientLoss = trainingData.map(lambda line : logistic_grad_per_example(line,randomArray(size)))\n",
    "print(\"The logistic grad for the first example is :\\n\",testGradientLoss.first())"
   ]
  },
  {
   "cell_type": "markdown",
   "metadata": {},
   "source": [
    "__Question 5__\n",
    ">Implement a gradient descent algorithm to minimize\n",
    "\\begin{align*}\n",
    "\\min_{x\\in\\mathbb{R}^d } f(x) := \\frac{1}{m}  \\sum_{i=1}^m  \\log( 1+\\exp(-b_i \\langle a_i,x \\rangle) ) = \\frac{1}{m}  \\sum_{i=1}^m f_i(x).\n",
    "\\end{align*}\n",
    ">by \n",
    "* defining a function taking a stepsize and a maximal number of iterations and returning the final point as well as the value of $f(x)$ at each iteration. \n",
    "* running `x, f_tab = grad_algo(gamma,MAX_ITE)`\n",
    "\n",
    "\n",
    "For the choice of the stepsize, we help you by provinding you an upper bound on the Lipschitz constant $L$ of $\\nabla f$:\n",
    "\n",
    "$ L \\leq L_b = \\max_i 0.25 \\|a_i\\|_2^2$."
   ]
  },
  {
   "cell_type": "code",
   "execution_count": 8,
   "metadata": {
    "collapsed": false
   },
   "outputs": [
    {
     "name": "stdout",
     "output_type": "stream",
     "text": [
      "Limite : 1.9999999999999991\n"
     ]
    }
   ],
   "source": [
    "import numpy as np\n",
    "def compute_gamma1():\n",
    "    Lb = 0.25 * trainingData.map(lambda line : pow(np.linalg.norm(line.features,2),2)).max()\n",
    "    return 1/Lb\n",
    "print(\"Limite :\",compute_gamma1())"
   ]
  },
  {
   "cell_type": "code",
   "execution_count": 9,
   "metadata": {
    "collapsed": false
   },
   "outputs": [],
   "source": [
    "def grad_algo(gamma, MAX_ITER):\n",
    "    i = 0\n",
    "    x = randomArray(size)\n",
    "    m = trainingData.count()\n",
    "    f_tab = np.zeros(MAX_ITER)\n",
    "    while i < MAX_ITER:\n",
    "        print(i, end=' ')\n",
    "        f = trainingData.map(lambda line : (1/m) * logistic_grad_per_example(line,x)).sum()\n",
    "        f_tab[i] = trainingData.map(lambda line : (1/m) * logistic_loss_per_example(line,x)).sum()\n",
    "        x = x - gamma * f    \n",
    "        i += 1\n",
    "    return x, f_tab\n",
    "\n",
    "#MAX_ITER = 20\n",
    "#x, f_tab = grad_algo(0.66,MAX_ITER)\n",
    "#print(\"\\nx =\",x,\"\\nf_tab =\",f_tab)"
   ]
  },
  {
   "cell_type": "markdown",
   "metadata": {},
   "source": [
    "__Question 6__\n",
    "\n",
    "> Plot the functional value versus the iterations.\n",
    "\n",
    "> Investigate if the computations are distributed over different threads."
   ]
  },
  {
   "cell_type": "code",
   "execution_count": 10,
   "metadata": {
    "collapsed": false
   },
   "outputs": [
    {
     "name": "stderr",
     "output_type": "stream",
     "text": [
      "/opt/conda/lib/python3.5/site-packages/matplotlib/font_manager.py:273: UserWarning: Matplotlib is building the font cache using fc-list. This may take a moment.\n",
      "  warnings.warn('Matplotlib is building the font cache using fc-list. This may take a moment.')\n",
      "/opt/conda/lib/python3.5/site-packages/matplotlib/font_manager.py:273: UserWarning: Matplotlib is building the font cache using fc-list. This may take a moment.\n",
      "  warnings.warn('Matplotlib is building the font cache using fc-list. This may take a moment.')\n"
     ]
    },
    {
     "ename": "NameError",
     "evalue": "name 'MAX_ITER' is not defined",
     "output_type": "error",
     "traceback": [
      "\u001b[0;31m---------------------------------------------------------------------------\u001b[0m",
      "\u001b[0;31mNameError\u001b[0m                                 Traceback (most recent call last)",
      "\u001b[0;32m<ipython-input-10-619031b18eef>\u001b[0m in \u001b[0;36m<module>\u001b[0;34m()\u001b[0m\n\u001b[1;32m      3\u001b[0m \u001b[0;34m\u001b[0m\u001b[0m\n\u001b[1;32m      4\u001b[0m \u001b[0mplt\u001b[0m\u001b[0;34m.\u001b[0m\u001b[0mfigure\u001b[0m\u001b[0;34m(\u001b[0m\u001b[0;34m)\u001b[0m\u001b[0;34m\u001b[0m\u001b[0m\n\u001b[0;32m----> 5\u001b[0;31m \u001b[0mplt\u001b[0m\u001b[0;34m.\u001b[0m\u001b[0mplot\u001b[0m\u001b[0;34m(\u001b[0m\u001b[0mrange\u001b[0m\u001b[0;34m(\u001b[0m\u001b[0mMAX_ITER\u001b[0m\u001b[0;34m)\u001b[0m\u001b[0;34m,\u001b[0m \u001b[0mf_tab\u001b[0m\u001b[0;34m,\u001b[0m \u001b[0mcolor\u001b[0m\u001b[0;34m=\u001b[0m\u001b[0;34m\"red\"\u001b[0m\u001b[0;34m,\u001b[0m \u001b[0mlinewidth\u001b[0m\u001b[0;34m=\u001b[0m\u001b[0;36m1.0\u001b[0m\u001b[0;34m,\u001b[0m \u001b[0mlinestyle\u001b[0m\u001b[0;34m=\u001b[0m\u001b[0;34m\"-\"\u001b[0m\u001b[0;34m)\u001b[0m\u001b[0;34m\u001b[0m\u001b[0m\n\u001b[0m\u001b[1;32m      6\u001b[0m \u001b[0mplt\u001b[0m\u001b[0;34m.\u001b[0m\u001b[0mxlim\u001b[0m\u001b[0;34m(\u001b[0m\u001b[0;36m0\u001b[0m\u001b[0;34m,\u001b[0m \u001b[0mMAX_ITER\u001b[0m\u001b[0;34m)\u001b[0m\u001b[0;34m\u001b[0m\u001b[0m\n\u001b[1;32m      7\u001b[0m \u001b[0mplt\u001b[0m\u001b[0;34m.\u001b[0m\u001b[0mxlabel\u001b[0m\u001b[0;34m(\u001b[0m\u001b[0;34m'Number of iterations'\u001b[0m\u001b[0;34m)\u001b[0m\u001b[0;34m\u001b[0m\u001b[0m\n",
      "\u001b[0;31mNameError\u001b[0m: name 'MAX_ITER' is not defined"
     ]
    },
    {
     "data": {
      "text/plain": [
       "<matplotlib.figure.Figure at 0x7eff6c0ca198>"
      ]
     },
     "metadata": {},
     "output_type": "display_data"
    }
   ],
   "source": [
    "import matplotlib.pyplot as plt\n",
    "%matplotlib inline  \n",
    "\n",
    "plt.figure()\n",
    "plt.plot(range(MAX_ITER), f_tab, color=\"red\", linewidth=1.0, linestyle=\"-\")\n",
    "plt.xlim(0, MAX_ITER)\n",
    "plt.xlabel('Number of iterations')\n",
    "plt.ylabel('Functional value')\n",
    "plt.show()"
   ]
  },
  {
   "cell_type": "markdown",
   "metadata": {},
   "source": [
    "# Regularized logisitic regression\n",
    "\n",
    "In addition to the loss, it is usual to add a regularization term of the form\n",
    "$$ r(x) = \\lambda_1 \\|x\\|_1 + \\lambda_2 \\|x\\|^2_2 $$\n",
    "\n",
    "The first part promotes sparsity of the iterates while the second part prevents over-fitting. \n",
    "This kind of regularization is often called:\n",
    "- *elastic-net* when $ \\lambda_1$ and $ \\lambda_2$ are non-null\n",
    "- $\\ell_1$ when $\\lambda_2 = 0$\n",
    "- *Tikhonov* when $\\lambda_1 = 0$\n",
    "\n",
    "The full optimization problems now writes\n",
    "\\begin{align*}\n",
    "\\min_{x\\in\\mathbb{R}^d } g(x) =  \\frac{1}{m}  \\sum_{i=1}^m  \\log( 1+\\exp(-b_i \\langle a_i,x \\rangle) ) +  \\lambda_1 \\|x\\|_1 + \\lambda_2 \\|x\\|^2_2\n",
    "\\end{align*}\n",
    "\n",
    "\n",
    "__Question 7__\n",
    "\n",
    "> Which part of $g$ is smooth, which part is not? Write $g$ as \n",
    "$$ g(x) =  \\frac{1}{m}  \\sum_{i=1}^m s_i(x) + n(x)  $$\n",
    "where the $(s_i)$ are smooth function and $n$ is non smooth.\n",
    "\n",
    "> ----------------------------------------------------------------------------------------------------------------\n",
    "\n",
    ">      --> \\lambda_1 \\|x\\|_1 is not differentiable at 0 --> not smooth function\n",
    "\n",
    ">      The reasons for regularization are \n",
    "\n",
    ">       1) to avoid overfitting by not generating high coefficients for predictors that are sparse.  \n",
    "\n",
    ">       2) to stabilize the estimates especially when there's collinearity in the data.  \n",
    "\n",
    "> ----------------------------------------------------------------------------------------------------------------\n",
    "\n",
    "> Define a function `regularized_logistic_grad_per_example(examples,x)` returning the gradient of the smooth part per example (i.e. $\\nabla s_i(x)$)\n",
    "\n",
    "> Define a function `n_prox(x,gamma)` returning the proximal operator of the non-smooth part (i.e. $\\mathbf{prox}_{\\gamma n}(y)$)\n",
    "\n",
    "we recall that\n",
    "$$ \\mathbf{prox}_{\\gamma n}(y) = \\arg\\min_x\\left\\{ n(x) + \\frac{1}{2\\gamma} \\|x-y\\|_2^2 \\right\\} $$"
   ]
  },
  {
   "cell_type": "code",
   "execution_count": 11,
   "metadata": {
    "collapsed": false
   },
   "outputs": [
    {
     "name": "stdout",
     "output_type": "stream",
     "text": [
      "The regularized logistic grad for the first example is :\n",
      " [-0.109386701112,0.568547703558,0.559973599285,-0.390406590755,0.28120471103,0.285802646937,-0.282021905114,0.516828785939,-0.933190778825,-0.0744266181621,-0.871214618803,0.0326383040313,-0.360724869734,0.318960165725,0.160975273999,-0.701513316441,-0.647388819868,0.535927968234,0.760465417661,-0.80266992594,0.16253660176,0.136337283387,-0.858859003224,-0.0214422338853,0.653281586372,-0.349488107016,0.253324358183,0.503516564517,0.457120377222,-0.536226878762,0.0848987602049,-0.610676921458,-0.269817304756,-0.804608766213,0.00859294945814] \n",
      "\n"
     ]
    }
   ],
   "source": [
    "import numpy as np\n",
    "# Part I\n",
    "m = trainingData.count()\n",
    "def regularized_logistic_grad_per_example(examples,x,lambda2):\n",
    "    return logistic_grad_per_example(examples,x) + 2 * lambda2 * x \n",
    "\n",
    "testRegularizedGradientLoss = trainingData.map(lambda line : regularized_logistic_grad_per_example(line,randomArray(size),0.5))\n",
    "print(\"The regularized logistic grad for the first example is :\\n\",testRegularizedGradientLoss.first(),\"\\n\")\n",
    "\n",
    "# Part II\n",
    "def n_prox(x,gamma):\n",
    "    res = np.zeros(size)\n",
    "    for i in range(1,size):\n",
    "        if x[i] > gamma :\n",
    "            res[i] = x[i] - gamma\n",
    "        elif x[i] < -gamma :\n",
    "            res[i] = x[i] + gamma\n",
    "        else :\n",
    "            res[i] = 0\n",
    "    return res\n"
   ]
  },
  {
   "cell_type": "markdown",
   "metadata": {},
   "source": [
    "__Question 8__\n",
    "\n",
    "> Compute a proximal gradient algorithm for computing a solution of\n",
    "$$ \\min_x  f(x) + r(x) = \\frac{1}{m}  \\sum_{i=1}^m  \\log( 1+\\exp(-b_i \\langle a_i,x \\rangle) ) + \\lambda_1 \\|x\\|_1 + \\lambda_2 \\|x\\|^2_2 $$\n",
    "\n",
    "\n",
    "Hint: An admissible stepsize can be found by taking $\\gamma = 1/L_{b2}$ with  $ L_b = \\max_i 0.25 \\|a_i\\|_2^2 + 2\\lambda_2$."
   ]
  },
  {
   "cell_type": "code",
   "execution_count": null,
   "metadata": {
    "collapsed": false
   },
   "outputs": [
    {
     "name": "stdout",
     "output_type": "stream",
     "text": [
      "Gamma value : 0.5333333333333333 \n",
      "\n"
     ]
    }
   ],
   "source": [
    "# Part I\n",
    "MAX_ITER = 20\n",
    "def compute_gamma2(lambda2):\n",
    "    Lb = 0.25 * trainingData.map(lambda line : pow(np.linalg.norm(line.features,2),2)).max() \\\n",
    "        + lambda2 * 2 \n",
    "    #print(0.5/Lb)\n",
    "    return 0.8/Lb\n",
    "print(\"Gamma value :\",compute_gamma2(0.5),\"\\n\")\n",
    "\n",
    "# Part II\n",
    "def prox_grad_algo(lambda1,lambda2):\n",
    "    i = 0\n",
    "    gamma = compute_gamma2(lambda2)\n",
    "    x = randomArray(size)\n",
    "    g_tab = np.zeros(MAX_ITER)\n",
    "    while i < MAX_ITER:\n",
    "        print(i, end=' ')\n",
    "        g = trainingData.map(lambda line : (1/m) * regularized_logistic_grad_per_example(line,x,lambda2)).sum()\n",
    "        g_tab[i] = trainingData.map(lambda line : (1/m) * logistic_loss_per_example(line,x)).sum() + \\\n",
    "                                    lambda1 * np.linalg.norm(x,1) + lambda2 * pow(np.linalg.norm(x,2),2)\n",
    "        x = n_prox(x - gamma * g,lambda1*gamma) \n",
    "        i += 1\n",
    "    return x, g_tab"
   ]
  },
  {
   "cell_type": "markdown",
   "metadata": {},
   "source": [
    "__Question 9__\n",
    "\n",
    "> Examine the behavior and output of your proximal gradient algorithm with different values of $\\lambda_1$, $\\lambda_2$. What do you observe in terms of sparsity of the solution and convergence rate of the algorithm?"
   ]
  },
  {
   "cell_type": "code",
   "execution_count": null,
   "metadata": {
    "collapsed": false
   },
   "outputs": [
    {
     "name": "stdout",
     "output_type": "stream",
     "text": [
      "0 1 2 3 4 5 6 7 8 9 10 11 12 13 14 15 16 17 18 19 20 21 22 23 24 25 26 27 28 29 30 31 32 33 34 35 36 "
     ]
    }
   ],
   "source": [
    "import matplotlib.pyplot as plt\n",
    "%matplotlib inline\n",
    "\n",
    "def compute_min(l1,l2):\n",
    "    x, g_tab = prox_grad_algo(l1,l2)\n",
    "    return x, g_tab\n",
    "\n",
    "MAX_ITER = 100\n",
    "lamb1 = [0,0,0,0.1]\n",
    "lamb2 = [0,0.1,0.1,0.1]\n",
    "x     = [0,0,0,0]\n",
    "g_tab = [0,0,0,0]\n",
    "for i in range(0,4):\n",
    "    x[i], g_tab[i] = compute_min(lamb1[i],lamb2[i])\n",
    "    print(\"\\n\")\n"
   ]
  },
  {
   "cell_type": "code",
   "execution_count": 21,
   "metadata": {
    "collapsed": false
   },
   "outputs": [
    {
     "name": "stdout",
     "output_type": "stream",
     "text": [
      "\n",
      "Courbe 1 [ red ]\n",
      "lambda1 = 0 \n",
      "lambda2 = 0 \n",
      "gamma = 0.19999999999999993\n",
      "0.616402983361 \n",
      "\n",
      "\n",
      "\n",
      "Courbe 2 [ green ]\n",
      "lambda1 = 0 \n",
      "lambda2 = 0.1 \n",
      "gamma = 0.14285714285714282\n",
      "0.991944046596 \n",
      "\n",
      "\n",
      "\n",
      "Courbe 3 [ blue ]\n",
      "lambda1 = 0 \n",
      "lambda2 = 0.1 \n",
      "gamma = 0.14285714285714282\n",
      "1.00233097015 \n",
      "\n",
      "\n",
      "\n",
      "Courbe 4 [ black ]\n",
      "lambda1 = 0.1 \n",
      "lambda2 = 0.1 \n",
      "gamma = 0.14285714285714282\n",
      "1.15163595823 \n",
      "\n",
      "\n"
     ]
    },
    {
     "data": {
      "image/png": "[encoded data removed]",
      "text/plain": [
       "<matplotlib.figure.Figure at 0x7f51047ac978>"
      ]
     },
     "metadata": {},
     "output_type": "display_data"
    }
   ],
   "source": [
    "def plot_res(x,g_tab,col):\n",
    "    plt.plot(range(MAX_ITER-5), g_tab[5:], col, linewidth=1.0, linestyle=\"-\")\n",
    "\n",
    "colors = [\"red\", \"green\", \"blue\",\"black\"]\n",
    "plt.figure()\n",
    "for i in range(0,4):\n",
    "    print(\"\\nCourbe\", i+1, \"[\",colors[i],\"]\\nlambda1 =\", lamb1[i], \"\\nlambda2 =\",\\\n",
    "        lamb2[i], \"\\ngamma =\", compute_gamma2(lamb2[i]))\n",
    "    plot_res(x[i],g_tab[i],colors[i])\n",
    "    print(g_tab[i][MAX_ITER-1],\"\\n\\n\")\n",
    "plt.xlim(0, MAX_ITER)\n",
    "plt.xlabel('Number of iterations')\n",
    "plt.ylabel('Functional value')\n",
    "plt.show()"
   ]
  },
  {
   "cell_type": "markdown",
   "metadata": {
    "collapsed": true
   },
   "source": [
    "__Question 10__\n",
    "\n",
    "> Write a function that evaluates the accuracy of the classification on the training dataset.\n",
    "\n",
    "> Investigate how this accuracy change when playing with the regularization terms\n"
   ]
  },
  {
   "cell_type": "code",
   "execution_count": 22,
   "metadata": {
    "collapsed": false
   },
   "outputs": [
    {
     "name": "stdout",
     "output_type": "stream",
     "text": [
      "erreur pour x[ 0 ] = 0.3373134328358209\n",
      "erreur pour x[ 1 ] = 0.382089552238806\n",
      "erreur pour x[ 2 ] = 0.3283582089552239\n",
      "erreur pour x[ 3 ] = 0.34328358208955223\n"
     ]
    }
   ],
   "source": [
    "# Part 1\n",
    "training_size = trainingData.count()\n",
    "def diff_tableau(a,b):\n",
    "    s = a\n",
    "    for i in range(0,training_size):\n",
    "        s[i] = a[i] - b[i]\n",
    "    return s\n",
    "\n",
    "#Labelisation\n",
    "def p(x,example):\n",
    "      #  label = 0\n",
    "    p = 1/(1+exp(-1 * np.dot(example.features,x)))\n",
    "    if p > 0.5:\n",
    "        label = 1.0\n",
    "    else:\n",
    "        label = -1.0\n",
    "    return label\n",
    "\n",
    "# test\n",
    "train = trainingData\n",
    "def test_train(train,x):\n",
    "    return train.map(lambda line : p(x,line))\n",
    "\n",
    "diff = [0,0,0,0]\n",
    "true_label = train.map(lambda line: line.label)\n",
    "#print(\"true_label :\\n\",true_label.collect())\n",
    "for i in range(0,4):\n",
    "    test = test_train(train,x[i])\n",
    "    diff[i] = diff_tableau(test.collect(),true_label.collect())\n",
    "    #print(\"test :\",i,\"\\n\",diff_tableau(test.collect(),true_label.collect()),\"\\n x = \\n\",x[i],\"\\n\")\n",
    "\n",
    "# Part 2\n",
    "def pourcentage_erreur(diff):\n",
    "    return sum([abs(_i) for _i in diff]) /(2*training_size)\n",
    "\n",
    "erreur = [0,0,0,0]\n",
    "for i in range(0,4):\n",
    "    erreur[i] = pourcentage_erreur(diff[i])\n",
    "    print(\"erreur pour x[\",i,\"] =\",erreur[i])"
   ]
  },
  {
   "cell_type": "markdown",
   "metadata": {},
   "source": [
    "# To go further\n",
    "\n",
    "\n"
   ]
  },
  {
   "cell_type": "markdown",
   "metadata": {},
   "source": [
    "### Accelerations\n",
    "\n",
    "A popular acceleration method to improve the convergence rate of proximal gradient algorithm is the addition of inertia. That is, contructing the next gradient input by a combination of the last two outputs.\n",
    "\n",
    "\n",
    "In particular, Nesterov's acceleration is the most popular form of inertia. It writes\n",
    "$$ \\left\\{ \\begin{array}{l}   y_{k+1} = \\mathbf{prox\\_grad}(x_k) \\\\ x_{k+1} = y_{k+1} + \\alpha_{k+1} (y_{k+1} - y_k)  \\end{array} \\right. $$ \n",
    "with\n",
    "* $\\mathbf{prox\\_grad}$ the proximal gradient operation\n",
    "* $(\\alpha_{k})$ the inertial sequence defined as $\\alpha_k = \\frac{t_k-1}{t_{k+1}}$ and $t_0 = 0$ and $t_{k+1} = \\frac{1+\\sqrt{1+4t_k^2}}{2}$\n",
    "\n",
    "__Question 11__\n",
    "\n",
    "> Implement a fast proximal gradient with this kind of inertia (This algorithm is often nicknamed FISTA).\n",
    "\n",
    "> Compare the convergence speed with the vanilla proximal gradient algorithm"
   ]
  },
  {
   "cell_type": "code",
   "execution_count": null,
   "metadata": {
    "collapsed": false
   },
   "outputs": [],
   "source": [
    "def FISTA_prox_grad_algo(lambda1,lambda2):\n",
    "    \n",
    "    t_kPlus1 = 1\n",
    "    \n",
    "    y_k = randomArray(size)\n",
    "    y_kPlus1 = randomArray(size)\n",
    "        \n",
    "    x = randomArray(size)\n",
    "\n",
    "    i = 0\n",
    "    h_tab = np.zeros(MAX_ITER)\n",
    "    gamma = compute_gamma2(lambda2)\n",
    "    \n",
    "    while i < MAX_ITER:\n",
    "        print(i, end =' ')\n",
    "        y_kPlus1 = trainingData.map(lambda line : (1/m) * regularized_logistic_grad_per_example(line,x,lambda2)).sum()                            \n",
    "        h_tab[i] = trainingData.map(lambda line : (1/m) * logistic_loss_per_example(line,x)).sum()\n",
    "        t_kPlus2 = (1 + sqrt(1 + 4 * t_kPlus1 * t_kPlus1)) / 2\n",
    "        alpha_kPlus1 = (t_kPlus1 - 1) / t_kPlus2\n",
    "        x = y_kPlus1 + alpha_kPlus1 * (y_kPlus1 - y_k)\n",
    "        \n",
    "        i += 1\n",
    "        y_k = y_kPlus1\n",
    "        t_kPlus1 = t_kPlus2\n",
    "    return x, h_tab\n",
    "MAX_ITER = 1\n",
    "x, h_tab = FISTA_prox_grad_algo(0,0)\n",
    "print(\"\\nx =\",x,\"\\nh_tab =\",h_tab)"
   ]
  },
  {
   "cell_type": "code",
   "execution_count": 23,
   "metadata": {
    "collapsed": false
   },
   "outputs": [
    {
     "data": {
      "image/png": "[encoded data removed]",
      "text/plain": [
       "<matplotlib.figure.Figure at 0x7fe30d2d5198>"
      ]
     },
     "metadata": {},
     "output_type": "display_data"
    }
   ],
   "source": [
    "colors = [\"red\", \"green\", \"blue\",\"black\"]\n",
    "plt.figure()\n",
    "#for i in range(0,4):\n",
    "#    print(\"\\nCourbe\", i+1, \"[\",colors[i],\"]\\nlambda1 =\", lamb1[i], \"\\nlambda2 =\",\\\n",
    "#        lamb2[i], \"\\ngamma =\", compute_gamma2(lamb2[i]))\n",
    "#    plot_res(x[i],g_tab[i],colors[i])\n",
    "plt.plot(range(MAX_ITER), h_tab, color=\"yellow\", linewidth=1.0, linestyle=\"-\")\n",
    "plt.xlim(0, MAX_ITER)\n",
    "plt.xlabel('Number of iterations')\n",
    "plt.ylabel('Functional value')\n",
    "plt.show()\n"
   ]
  },
  {
   "cell_type": "markdown",
   "metadata": {},
   "source": [
    "### Incremental methods\n",
    "\n",
    "When dimension increases, incremental algorithms are often priviledged. \n",
    "\n",
    "A possible incremental algorithm for a problem such as regularized logistic regression is MISO (see *J Mairal. Incremental Majorization-Minimization Optimization with Application to Large-Scale Machine Learning. SIAM Journal on Optimization,2015 and ICML 2014.*):\n",
    "\n",
    "* Draw randomly a sample $n$\n",
    "* Compute $x^n_{k+1} = \\mathbf{prox}_{\\gamma g} (\\bar{x}_k) - \\gamma \\nabla f_n(\\mathbf{prox}_{\\gamma g} (\\bar{x}_k) )$\n",
    "* For all $i\\neq n$, $x^i_{k+1}=x^i_k$ \n",
    "* Compute new $\\bar{x}_{k+1} = \\frac{1}{m} \\sum_{j=1}^m x^j_{k+1}$\n",
    " \n",
    "\n",
    "__Question 12__\n",
    "\n",
    "> Implement this incremental algorithm and compare with the previous algorithms in terms of convergence time and functional value versus number of passes over the data."
   ]
  },
  {
   "cell_type": "code",
   "execution_count": null,
   "metadata": {
    "collapsed": false
   },
   "outputs": [],
   "source": []
  }
 ],
 "metadata": {
  "kernelspec": {
   "display_name": "Python 3",
   "language": "python",
   "name": "python3"
  },
  "language_info": {
   "codemirror_mode": {
    "name": "ipython",
    "version": 3
   },
   "file_extension": ".py",
   "mimetype": "text/x-python",
   "name": "python",
   "nbconvert_exporter": "python",
   "pygments_lexer": "ipython3",
   "version": "3.5.2"
  }
 },
 "nbformat": 4,
 "nbformat_minor": 0
}
